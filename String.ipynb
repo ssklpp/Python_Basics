{
 "cells": [
  {
   "cell_type": "code",
   "execution_count": 1,
   "metadata": {},
   "outputs": [
    {
     "name": "stdout",
     "output_type": "stream",
     "text": [
      "50 51 52\n"
     ]
    }
   ],
   "source": [
    "# 문자열\n",
    "# 시퀀스 자료형으로 문자형 data를 메모리에 저장\n",
    "\n",
    "import sys\n",
    "\n",
    "print(sys.getsizeof(\"a\"), sys.getsizeof(\"ab\"), sys.getsizeof(\"abc\"))"
   ]
  },
  {
   "cell_type": "code",
   "execution_count": 2,
   "metadata": {},
   "outputs": [
    {
     "name": "stdout",
     "output_type": "stream",
     "text": [
      "a e\n",
      "e a\n"
     ]
    }
   ],
   "source": [
    "# 인덱싱\n",
    "# 문자열의 각 문자는 개별 주소를 가짐\n",
    "\n",
    "a = \"abcde\"\n",
    "print(a[0], a[4]) # a 변수의 왼쪽에서 0번째, 4번째 주소값\n",
    "print(a[-1],a[-5]) # a 변수의 오른쪽에서 0번째, 4번째 주소값"
   ]
  },
  {
   "cell_type": "code",
   "execution_count": 5,
   "metadata": {},
   "outputs": [
    {
     "name": "stdout",
     "output_type": "stream",
     "text": [
      "Chosun  AND  University\n",
      "Chosun University\n",
      "Chosun University\n",
      "Cou nvriy  AND  ytisrevinU nusohC\n"
     ]
    }
   ],
   "source": [
    "# 슬라이싱\n",
    "# 문자열의 주소값을 기반으로 문자열의 부분값을 반환\n",
    "\n",
    "a = \"Chosun University\"\n",
    "\n",
    "print(a[0:6], \" AND \", a[-10:]) # a 변수의 0부터 5까지, -10부터 끝까지\n",
    "print(a[:]) # a 변수의 처음부터 끝까지\n",
    "print(a[-50:50]) # 범위를 넘어갈 경우 자동으로 최대 범위를 지정\n",
    "print(a[::2], \" AND \", a[::-1]) # 2칸 단위로, 역으로 슬라이싱"
   ]
  },
  {
   "cell_type": "code",
   "execution_count": 7,
   "metadata": {},
   "outputs": [
    {
     "name": "stdout",
     "output_type": "stream",
     "text": [
      "PYTHON X JUPYTER NOTEBOOK\n",
      "python x jupyter notebook\n",
      "['Python', 'X', 'Jupyter', 'Notebook']\n",
      "False\n",
      "Python X Jupyter Notebook\n",
      "False\n",
      "0\n",
      "0\n"
     ]
    }
   ],
   "source": [
    "title = \"Python X Jupyter Notebook\"\n",
    "print(title.upper())\n",
    "print(title.lower())\n",
    "print(title.split(\" \"))\n",
    "print(title.isdigit())\n",
    "print(title.title())\n",
    "print(title.startswith(\"a\"))\n",
    "print(title.count(\"a\"))\n",
    "print(title.upper().count(\"a\"))"
   ]
  },
  {
   "cell_type": "code",
   "execution_count": 10,
   "metadata": {},
   "outputs": [
    {
     "name": "stdout",
     "output_type": "stream",
     "text": [
      "Number of a Wor 'Yesterday' 9\n"
     ]
    }
   ],
   "source": [
    "f = open(\"yesterday.txt\", 'r')\n",
    "yesterday_lyric = \"\"\n",
    "\n",
    "while 1:\n",
    "    line = f.readline()\n",
    "    \n",
    "    if not line:\n",
    "        break\n",
    "    \n",
    "    yesterday_lyric = yesterday_lyric + line.strip() + \"\\n\"\n",
    "f.close()\n",
    "\n",
    "n_of_yesterday = yesterday_lyric.upper().count(\"YESTERDAY\")\n",
    "print(\"Number of a Wor 'Yesterday'\", n_of_yesterday)"
   ]
  },
  {
   "cell_type": "code",
   "execution_count": 12,
   "metadata": {},
   "outputs": [
    {
     "name": "stdout",
     "output_type": "stream",
     "text": [
      "Number of a Wor 'Yesterday' 3\n",
      "Number of a Wor 'yesterday' 6\n"
     ]
    }
   ],
   "source": [
    "f = open(\"yesterday.txt\", 'r')\n",
    "yesterday_lyric = \"\"\n",
    "\n",
    "while 1:\n",
    "    line = f.readline()\n",
    "    \n",
    "    if not line:\n",
    "        break\n",
    "    \n",
    "    yesterday_lyric = yesterday_lyric + line.strip() + \"\\n\"\n",
    "f.close()\n",
    "\n",
    "n_title_of_yesterday = yesterday_lyric.count(\"Yesterday\")\n",
    "n_lower_of_yesterday = yesterday_lyric.count(\"yesterday\")\n",
    "print(\"Number of a Wor 'Yesterday'\", n_title_of_yesterday)\n",
    "print(\"Number of a Wor 'yesterday'\", n_lower_of_yesterday)"
   ]
  },
  {
   "cell_type": "code",
   "execution_count": null,
   "metadata": {},
   "outputs": [],
   "source": []
  }
 ],
 "metadata": {
  "kernelspec": {
   "display_name": "Python 3",
   "language": "python",
   "name": "python3"
  },
  "language_info": {
   "codemirror_mode": {
    "name": "ipython",
    "version": 3
   },
   "file_extension": ".py",
   "mimetype": "text/x-python",
   "name": "python",
   "nbconvert_exporter": "python",
   "pygments_lexer": "ipython3",
   "version": "3.6.5"
  }
 },
 "nbformat": 4,
 "nbformat_minor": 2
}
