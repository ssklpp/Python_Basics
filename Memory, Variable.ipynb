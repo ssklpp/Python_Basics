{
 "cells": [
  {
   "cell_type": "code",
   "execution_count": 1,
   "metadata": {},
   "outputs": [
    {
     "name": "stdout",
     "output_type": "stream",
     "text": [
      "TaeWan Kim\n"
     ]
    }
   ],
   "source": [
    "# 변수 Student에 \"TaeWan Kim\"이라는 값을 넣는다.\n",
    "Student = \"TaeWan Kim\"\n",
    "print(Student)"
   ]
  },
  {
   "cell_type": "code",
   "execution_count": 2,
   "metadata": {},
   "outputs": [
    {
     "name": "stdout",
     "output_type": "stream",
     "text": [
      "12\n"
     ]
    }
   ],
   "source": [
    "# a와 b 변수의 값을 더해서 출력\n",
    "a = 7\n",
    "b = 5\n",
    "print(a+b)"
   ]
  },
  {
   "cell_type": "code",
   "execution_count": 3,
   "metadata": {},
   "outputs": [
    {
     "name": "stdout",
     "output_type": "stream",
     "text": [
      "a+b\n"
     ]
    }
   ],
   "source": [
    "# a+b를 출력\n",
    "a = 7\n",
    "b = 5\n",
    "print(\"a+b\")"
   ]
  },
  {
   "cell_type": "code",
   "execution_count": 4,
   "metadata": {},
   "outputs": [
    {
     "name": "stdout",
     "output_type": "stream",
     "text": [
      "1 1\n",
      "1.5 3.5\n",
      "ABC 101010\n",
      "True False\n"
     ]
    }
   ],
   "source": [
    "a = 1 # integar\n",
    "b = 1 # intger\n",
    "print(a, b)\n",
    "\n",
    "a = 1.5 # flaot\n",
    "b = 3.5 # float\n",
    "print(a, b)\n",
    "\n",
    "a = \"ABC\" # string\n",
    "b = \"101010\" # string\n",
    "print(a, b)\n",
    "\n",
    "a = True # boolean\n",
    "b = False # boolean\n",
    "print(a, b)"
   ]
  },
  {
   "cell_type": "code",
   "execution_count": 5,
   "metadata": {},
   "outputs": [
    {
     "name": "stdout",
     "output_type": "stream",
     "text": [
      "243\n",
      "243\n",
      "3.5\n",
      "1\n"
     ]
    }
   ],
   "source": [
    "print(3 * 3 * 3 * 3 * 3) # 3을 다섯 번 곱함\n",
    "print(3**5) # 3의 5승\n",
    "\n",
    "print(7/2) # 7을 2로 나눈 몫\n",
    "print(7%2) # 7을 2로 나눈 나머지"
   ]
  },
  {
   "cell_type": "code",
   "execution_count": 6,
   "metadata": {},
   "outputs": [
    {
     "name": "stdout",
     "output_type": "stream",
     "text": [
      "2\n",
      "3\n"
     ]
    }
   ],
   "source": [
    "# a += 1는 a = a+1과 같은 의미\n",
    "a = 1\n",
    "a = a+1\n",
    "print(a)\n",
    "\n",
    "a += 1\n",
    "print(a)\n",
    "\n",
    "a = a-1\n",
    "a -= 1"
   ]
  }
 ],
 "metadata": {
  "kernelspec": {
   "display_name": "Python 3",
   "language": "python",
   "name": "python3"
  },
  "language_info": {
   "codemirror_mode": {
    "name": "ipython",
    "version": 3
   },
   "file_extension": ".py",
   "mimetype": "text/x-python",
   "name": "python",
   "nbconvert_exporter": "python",
   "pygments_lexer": "ipython3",
   "version": "3.6.5"
  }
 },
 "nbformat": 4,
 "nbformat_minor": 2
}
