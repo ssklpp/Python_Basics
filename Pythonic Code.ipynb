{
 "cells": [
  {
   "cell_type": "code",
   "execution_count": 2,
   "metadata": {},
   "outputs": [
    {
     "name": "stdout",
     "output_type": "stream",
     "text": [
      "redbluegreenyellow\n",
      "red-blue-green-yellow\n",
      "red/blue/green/yellow\n"
     ]
    }
   ],
   "source": [
    "colors = ['red', 'blue', 'green', 'yellow']\n",
    "result = ''.join(colors)\n",
    "print(result)\n",
    "\n",
    "result = '-'.join(colors)\n",
    "print(result)\n",
    "\n",
    "result = '/'.join(colors)\n",
    "print(result)"
   ]
  },
  {
   "cell_type": "code",
   "execution_count": 8,
   "metadata": {},
   "outputs": [
    {
     "name": "stdout",
     "output_type": "stream",
     "text": [
      "['zero', 'one', 'two', 'three']\n",
      "['python', ' jquery', ' javascript']\n",
      "python  jquery  javascript\n",
      "cs50.chosun.univ\n",
      "cs50 chosun univ\n"
     ]
    }
   ],
   "source": [
    "# Split\n",
    "# String Type의 값을 나눠숴 List 형태로 변환\n",
    "\n",
    "items = 'zero one two three'.split()\n",
    "print(items)\n",
    "\n",
    "example = 'python, jquery, javascript'\n",
    "print(example.split(\",\"))\n",
    "\n",
    "a, b, c = example.split(\",\")\n",
    "print(a, b, c)\n",
    "example = 'cs50.chosun.univ'\n",
    "print(example)\n",
    "subdomain, domain, tld = example.split('.')\n",
    "print(subdomain, domain, tld)"
   ]
  },
  {
   "cell_type": "code",
   "execution_count": 9,
   "metadata": {},
   "outputs": [
    {
     "name": "stdout",
     "output_type": "stream",
     "text": [
      "redbluegreenyellow\n",
      "red blue green yellow\n",
      "red, blue, green, yellow\n",
      "red-blue-green-yellow\n"
     ]
    }
   ],
   "source": [
    "# Join\n",
    "# String List를 합쳐 하나의 String으로 반환할 때 사용\n",
    "\n",
    "colors = ['red', 'blue', 'green', 'yellow']\n",
    "result = ''.join(colors)\n",
    "print(result)\n",
    "\n",
    "result = ' '.join(colors)    # 연결 시 빈칸 1칸으로 연결\n",
    "print(result)\n",
    "\n",
    "result = ', '.join(colors)   # 연결 시 \", \"으로 연결\n",
    "print(result)\n",
    "\n",
    "result = '-'.join(colors)    # 연결 시 \"-\"으로 연결\n",
    "print(result)"
   ]
  },
  {
   "cell_type": "code",
   "execution_count": 11,
   "metadata": {},
   "outputs": [
    {
     "name": "stdout",
     "output_type": "stream",
     "text": [
      "[0, 1, 2, 3, 4, 5, 6, 7, 8, 9]\n",
      "[0, 1, 2, 3, 4, 5, 6, 7, 8, 9]\n",
      "[0, 2, 4, 6, 8]\n"
     ]
    }
   ],
   "source": [
    "# List comprehensions\n",
    "# 기존 List를 사요앟여 간단히 다른 List를 만드는 기법\n",
    "# 포괄적인 List, 포함되는 리스트라는 의미로 사용됨\n",
    "# 일반적으로 append 보다 속도가 빠름\n",
    "\n",
    "result = []\n",
    "for i in range(10):\n",
    "    result.append(i)\n",
    "print(result)\n",
    "\n",
    "result = [i for i in range(10)]\n",
    "print(result)\n",
    "\n",
    "result = [i for i in range(10) if i % 2 == 0]\n",
    "print(result)"
   ]
  },
  {
   "cell_type": "code",
   "execution_count": 12,
   "metadata": {},
   "outputs": [
    {
     "name": "stdout",
     "output_type": "stream",
     "text": [
      "['HW', 'Ho', 'Hr', 'Hl', 'Hd', 'eW', 'eo', 'er', 'el', 'ed', 'lW', 'lo', 'lr', 'll', 'ld', 'lW', 'lo', 'lr', 'll', 'ld', 'oW', 'oo', 'or', 'ol', 'od']\n"
     ]
    }
   ],
   "source": [
    "word_1 = \"Hello\"\n",
    "word_2 = \"World\"\n",
    "result = [i+j for i in word_1 for j in word_2]\n",
    "# for i in word_1:\n",
    "#     for j in word_2:\n",
    "#         i+j\n",
    "print(result)"
   ]
  },
  {
   "cell_type": "code",
   "execution_count": 16,
   "metadata": {},
   "outputs": [
    {
     "name": "stdout",
     "output_type": "stream",
     "text": [
      "['AD', 'AE', 'AA', 'BD', 'BE', 'BA', 'CD', 'CE', 'CA']\n",
      "['AD', 'AE', 'BD', 'BE', 'BA', 'CD', 'CE', 'CA']\n",
      "['AD', 'AE', 'BA', 'BD', 'BE', 'CA', 'CD', 'CE']\n"
     ]
    }
   ],
   "source": [
    "case_1 = ['A', 'B', 'C']\n",
    "case_2 = ['D', 'E', 'A']\n",
    "result = [i+j for i in case_1 for j in case_2]\n",
    "# for i in case_1:\n",
    "#     for j in case_2:\n",
    "#         i+j\n",
    "print(result)\n",
    "\n",
    "result = [i+j for i in case_1 for j in case_2 if not(i==j)]\n",
    "# for i in case_1:\n",
    "#     for j in case_2:\n",
    "#         i+j\n",
    "#         if not(i==j)\n",
    "print(result)\n",
    "\n",
    "result.sort()\n",
    "print(result)"
   ]
  },
  {
   "cell_type": "code",
   "execution_count": 20,
   "metadata": {},
   "outputs": [
    {
     "name": "stdout",
     "output_type": "stream",
     "text": [
      "['The', 'quick', 'brown', 'fox', 'jumps', 'over', 'the', 'lazy', 'dog']\n",
      "['THE', 'the', 3]\n",
      "['QUICK', 'quick', 5]\n",
      "['BROWN', 'brown', 5]\n",
      "['FOX', 'fox', 3]\n",
      "['JUMPS', 'jumps', 5]\n",
      "['OVER', 'over', 4]\n",
      "['THE', 'the', 3]\n",
      "['LAZY', 'lazy', 4]\n",
      "['DOG', 'dog', 3]\n"
     ]
    }
   ],
   "source": [
    "words = 'The quick brown fox jumps over the lazy dog'.split()\n",
    "# 문장을 빈칸 기준으로 나눠 list로 변환\n",
    "print(words)\n",
    "\n",
    "stuff = [[w.upper(), w.lower(), len(w)] for w in words]\n",
    "# list의 각 elemente들을 대문자, 소문자, 길이로 변환하여 two dimensional list로 변환\n",
    "for i in stuff:\n",
    "    print(i)"
   ]
  },
  {
   "cell_type": "code",
   "execution_count": 25,
   "metadata": {},
   "outputs": [
    {
     "name": "stdout",
     "output_type": "stream",
     "text": [
      "[['AD', 'BD', 'CD'], ['AE', 'BE', 'CE'], ['AA', 'BA', 'CA']]\n",
      "[['AD', 'BD', 'CD'], ['AE', 'BE', 'CE'], ['AA', 'BA', 'CA']]\n",
      "['AD', 'BD', 'CD', 'AE', 'BE', 'CE', 'AA', 'BA', 'CA']\n"
     ]
    }
   ],
   "source": [
    "case_1 = ['A', 'B', 'C']\n",
    "case_2 = ['D', 'E', 'A']\n",
    "result = [[i+j for i in case_1] for j in case_2]\n",
    "# for j in case_2:\n",
    "#     for i in case_1:\n",
    "#         i+j\n",
    "print(result)\n",
    "\n",
    "print([x for x in result])\n",
    "print([element for x in result for element in x])"
   ]
  },
  {
   "cell_type": "code",
   "execution_count": 31,
   "metadata": {},
   "outputs": [
    {
     "name": "stdout",
     "output_type": "stream",
     "text": [
      "0 tic\n",
      "1 tac\n",
      "2 toe\n",
      "[(0, 'a'), (1, 'b'), (2, 'c'), (3, 'd')]\n"
     ]
    },
    {
     "data": {
      "text/plain": [
       "{0: 'Chosun',\n",
       " 1: 'University',\n",
       " 2: 'is',\n",
       " 3: 'an',\n",
       " 4: 'academic',\n",
       " 5: 'institue',\n",
       " 6: 'located',\n",
       " 7: 'in',\n",
       " 8: 'South',\n",
       " 9: 'Korea.'}"
      ]
     },
     "execution_count": 31,
     "metadata": {},
     "output_type": "execute_result"
    }
   ],
   "source": [
    "# Enumerate\n",
    "# List의 element를 추출할 때 번호를 붙여서 추출\n",
    "\n",
    "for i, v in enumerate(['tic', 'tac', 'toe']):\n",
    "# list의 있는 index와 값을 unpacking\n",
    "    print(i, v)\n",
    "    \n",
    "mylist = ['a', 'b', 'c', 'd']\n",
    "print(list(enumerate(mylist)))\n",
    "\n",
    "{i:j for i,j in enumerate('Chosun University is an academic institue located in South Korea. '.split())}\n",
    "# 문장을 list로 만들고 list의 index와 값을 unpacking하여 dict로 저장"
   ]
  },
  {
   "cell_type": "code",
   "execution_count": 34,
   "metadata": {},
   "outputs": [
    {
     "name": "stdout",
     "output_type": "stream",
     "text": [
      "a1 b1\n",
      "a2 b2\n",
      "a3 b3\n",
      "(1, 10, 100) (2, 20, 200) (3, 30, 300)\n"
     ]
    },
    {
     "data": {
      "text/plain": [
       "[111, 222, 333]"
      ]
     },
     "execution_count": 34,
     "metadata": {},
     "output_type": "execute_result"
    }
   ],
   "source": [
    "# Zip\n",
    "# 두 개의 list의 값을 병렬적으로 추출함\n",
    "\n",
    "alist = ['a1', 'a2', 'a3']\n",
    "blist = ['b1', 'b2', 'b3']\n",
    "for a, b in zip(alist, blist):\n",
    "    print(a,b)\n",
    "    \n",
    "a, b, c = zip((1,2,3), (10,20,30), (100,200,300))\n",
    "print(a, b, c)\n",
    "\n",
    "[sum(x) for x in zip((1,2,3), (10,20,30), (100,200,300))]"
   ]
  },
  {
   "cell_type": "code",
   "execution_count": 35,
   "metadata": {},
   "outputs": [
    {
     "name": "stdout",
     "output_type": "stream",
     "text": [
      "0 a1 b1\n",
      "1 a2 b2\n",
      "2 a3 b3\n"
     ]
    }
   ],
   "source": [
    "# Enumerate & Zip\n",
    "alist = ['a1', 'a2', 'a3']\n",
    "blist = ['b1', 'b2', 'b3']\n",
    "\n",
    "for i, (a, b) in enumerate(zip(alist, blist)):\n",
    "    print(i, a, b)"
   ]
  },
  {
   "cell_type": "code",
   "execution_count": null,
   "metadata": {},
   "outputs": [],
   "source": []
  }
 ],
 "metadata": {
  "kernelspec": {
   "display_name": "Python 3",
   "language": "python",
   "name": "python3"
  },
  "language_info": {
   "codemirror_mode": {
    "name": "ipython",
    "version": 3
   },
   "file_extension": ".py",
   "mimetype": "text/x-python",
   "name": "python",
   "nbconvert_exporter": "python",
   "pygments_lexer": "ipython3",
   "version": "3.6.5"
  }
 },
 "nbformat": 4,
 "nbformat_minor": 2
}
