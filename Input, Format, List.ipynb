{
 "cells": [
  {
   "cell_type": "code",
   "execution_count": 17,
   "metadata": {},
   "outputs": [
    {
     "name": "stdout",
     "output_type": "stream",
     "text": [
      "Enter your name:\n",
      "32.3\n",
      "Hi 32.3 How are you today?\n"
     ]
    }
   ],
   "source": [
    "print(\"Enter your name:\")\n",
    "somebody = input() # 값을 입력받아 somebody에 저장\n",
    "print(\"Hi\", somebody, \"How are you today?\")"
   ]
  },
  {
   "cell_type": "code",
   "execution_count": 18,
   "metadata": {},
   "outputs": [
    {
     "name": "stdout",
     "output_type": "stream",
     "text": [
      "Hello World Hello Again!!!\n"
     ]
    }
   ],
   "source": [
    "print(\"Hello World\", \"Hello Again!!!\") # , 사용"
   ]
  },
  {
   "cell_type": "code",
   "execution_count": 19,
   "metadata": {},
   "outputs": [
    {
     "name": "stdout",
     "output_type": "stream",
     "text": [
      "온도를 입력하세요 :32.3\n",
      "32.3\n",
      "<class 'float'>\n"
     ]
    }
   ],
   "source": [
    "temperature = float(input(\"온도를 입력하세요 :\")) # 입력 시 바로 형 변환\n",
    "print(temperature)\n",
    "print(type(temperature))"
   ]
  },
  {
   "cell_type": "code",
   "execution_count": 20,
   "metadata": {},
   "outputs": [
    {
     "name": "stdout",
     "output_type": "stream",
     "text": [
      "변환하고 싶은 섭씨 온도를 입력해주세요 : \n",
      "32.3\n",
      "섭씨 온도 : 32.3\n",
      "화씨 온도 : 90.13999999999999\n"
     ]
    }
   ],
   "source": [
    "print(\"변환하고 싶은 섭씨 온도를 입력해주세요 : \")\n",
    "c = float(input()) # 섭씨 온도 입력\n",
    "\n",
    "f = c*1.8 + 32 # 화씨 온도로 변환\n",
    "print(\"섭씨 온도 :\", c)\n",
    "print(\"화씨 온도 :\", f)"
   ]
  },
  {
   "cell_type": "code",
   "execution_count": 21,
   "metadata": {},
   "outputs": [
    {
     "name": "stdout",
     "output_type": "stream",
     "text": [
      "1 2 3\n",
      "a b c\n",
      "1 2 3\n",
      "1 2 3\n"
     ]
    }
   ],
   "source": [
    "print(1, 2, 3)\n",
    "print(\"a\" + \" \" + \"b\" + \" \" + \"c\")\n",
    "print(\"%d %d %d\" % (1,2,3))\n",
    "print(\"{} {} {}\".format(1,2,3))"
   ]
  },
  {
   "cell_type": "code",
   "execution_count": 22,
   "metadata": {},
   "outputs": [
    {
     "name": "stdout",
     "output_type": "stream",
     "text": [
      "I eat 3 apples.\n",
      "I eat five apples.\n",
      "I ate 3 apples. I was sick for three days.\n",
      "Product: Apple, Price per unit: 5.243000.\n"
     ]
    }
   ],
   "source": [
    "print(\"I eat %d apples.\" % 3)\n",
    "print(\"I eat %s apples.\" % \"five\")\n",
    "number = 3; day = 'three'\n",
    "print(\"I ate %d apples. I was sick for %s days.\" % (number, day))\n",
    "print(\"Product: %s, Price per unit: %f.\" % (\"Apple\", 5.243))"
   ]
  },
  {
   "cell_type": "code",
   "execution_count": 23,
   "metadata": {},
   "outputs": [
    {
     "name": "stdout",
     "output_type": "stream",
     "text": [
      "I'm 25 years old.\n",
      "My name is Taewan Kim and 25 years old.\n",
      "Product: Apple, Price per unit: 5.243.\n"
     ]
    }
   ],
   "source": [
    "#str.format()\n",
    "age = 25; name = 'Taewan Kim'\n",
    "print(\"I'm {0} years old.\".format(age))\n",
    "print(\"My name is {0} and {1} years old.\".format(name,age))\n",
    "print(\"Product: {0}, Price per unit: {1:.3f}.\".format(\"Apple\", 5.243))"
   ]
  },
  {
   "cell_type": "code",
   "execution_count": 24,
   "metadata": {},
   "outputs": [
    {
     "name": "stdout",
     "output_type": "stream",
     "text": [
      "Product: Apple, Price per unit: 5.24300\n",
      "Product: Apple, Price per unit: 5.24300\n"
     ]
    }
   ],
   "source": [
    "#padding 여유 공간 지정\n",
    "print(\"Product: %5s, Price per unit: %.5f\" % (\"Apple\", 5.243))\n",
    "print(\"Product: {0:5s}, Price per unit: {1:.5f}\".format(\"Apple\", 5.243))"
   ]
  },
  {
   "cell_type": "code",
   "execution_count": 25,
   "metadata": {},
   "outputs": [
    {
     "name": "stdout",
     "output_type": "stream",
     "text": [
      "Product: Apple, Price per unit: 5.24300\n"
     ]
    }
   ],
   "source": [
    "# naming 해당 표시할 내용을 변수로 표시하여 입력\n",
    "print(\"Product: %(name)5s, Price per unit: %(price)5.5f\" %{\"name\":\"Apple\", \"price\":5.243})"
   ]
  },
  {
   "cell_type": "code",
   "execution_count": 26,
   "metadata": {},
   "outputs": [
    {
     "name": "stdout",
     "output_type": "stream",
     "text": [
      "red\n",
      "green\n",
      "3\n"
     ]
    }
   ],
   "source": [
    "# list\n",
    "colors = ['red', 'blue', 'green']\n",
    "print(colors[0]) # red\n",
    "print(colors[2]) # green\n",
    "print(len(colors)) # 3"
   ]
  },
  {
   "cell_type": "code",
   "execution_count": 29,
   "metadata": {},
   "outputs": [
    {
     "name": "stdout",
     "output_type": "stream",
     "text": [
      "['서울', '부산', '인천', '대구', '대전', '광주']\n",
      "['서울', '부산', '인천', '대구', '대전', '광주', '울산', '수원']\n",
      "['서울', '부산', '인천', '대구', '대전', '광주', '울산', '수원']\n",
      "['서울', '인천', '대전', '울산']\n",
      "['수원', '울산', '광주', '대전', '대구', '인천', '부산', '서울']\n"
     ]
    }
   ],
   "source": [
    "# slicing\n",
    "# list의 값들을 잘라서 쓰는 것\n",
    "# list의 주소 값을 기반으로 부분 값을 반환\n",
    "\n",
    "cities  =['서울', '부산', '인천', '대구', '대전', '광주', '울산', '수원']\n",
    "print(cities[0:6]) # a 변수의 0부터 5까지\n",
    "print(cities[:]) # a 변수의 처음부터 끝까지\n",
    "print(cities[-50:50]) # 범위를 넘어갈 경우 자동으로 최대 범위를 지정\n",
    "print(cities[::2]) # 2칸 단위로\n",
    "print(cities[::-1]) # 역 슬라이싱"
   ]
  },
  {
   "cell_type": "code",
   "execution_count": 30,
   "metadata": {},
   "outputs": [
    {
     "name": "stdout",
     "output_type": "stream",
     "text": [
      "['red', 'blue', 'green', 'orange', 'black', 'white']\n",
      "['yellow', 'blue', 'green', 'yellow', 'blue', 'green']\n"
     ]
    }
   ],
   "source": [
    "# list의 연산\n",
    "color = ['red', 'blue', 'green']\n",
    "color2 = ['orange', 'black', 'white']\n",
    "print(color+color2)\n",
    "len(color) # 리스트 color의 길이\n",
    "color[0] = 'yellow' # 0번째 리스트의 값을 변경\n",
    "print(color*2) # color 리스트 2회 반복\n",
    "'blue' in color2\n",
    "total_color = color + color2"
   ]
  },
  {
   "cell_type": "code",
   "execution_count": 31,
   "metadata": {},
   "outputs": [
    {
     "name": "stdout",
     "output_type": "stream",
     "text": [
      "['orange', 'yellow', 'blue', 'green', 'white', 'black']\n",
      "['yellow', 'blue', 'green', 'black']\n"
     ]
    }
   ],
   "source": [
    "# list 추가와 삭제\n",
    "color.append('white') # list에 'white' 추가\n",
    "color.extend(['black']) # list에 새로운 list 추가\n",
    "color.insert(0,'orange') # 0번째 주소에 'orange' 추가\n",
    "print(color)\n",
    "\n",
    "color.remove('white')\n",
    "del color[0] # list에 'white' 삭제\n",
    "print(color) # 0번째 주소 list 객체 삭제"
   ]
  },
  {
   "cell_type": "code",
   "execution_count": 32,
   "metadata": {},
   "outputs": [
    {
     "name": "stdout",
     "output_type": "stream",
     "text": [
      "[['yellow', 'blue', 'green', 'black', 'purple'], 1, 0.2]\n"
     ]
    }
   ],
   "source": [
    "# 다양한 Data Type이 하나의 list에 사용\n",
    "a = [\"color\", 1, 0.2]\n",
    "color = ['yellow', 'blue', 'green', 'black', 'purple']\n",
    "a[0] = color # list 안에 list도 입력 가능\n",
    "print(a)"
   ]
  },
  {
   "cell_type": "code",
   "execution_count": 33,
   "metadata": {},
   "outputs": [
    {
     "name": "stdout",
     "output_type": "stream",
     "text": [
      "[5, 4, 3, 2, 1]\n",
      "[1, 2, 3, 4, 5]\n",
      "[1, 2, 3, 4, 5] [6, 7, 8, 9, 10]\n"
     ]
    }
   ],
   "source": [
    "# list memory\n",
    "a = [5,4,3,2,1]\n",
    "b = [1,2,3,4,5]\n",
    "b = a\n",
    "print(b)\n",
    "\n",
    "a.sort()\n",
    "print(b)\n",
    "\n",
    "b = [6,7,8,9,10]\n",
    "print(a, b)"
   ]
  },
  {
   "cell_type": "code",
   "execution_count": 34,
   "metadata": {},
   "outputs": [
    {
     "name": "stdout",
     "output_type": "stream",
     "text": [
      "[1, 2, 3] 1 2 3\n"
     ]
    }
   ],
   "source": [
    "# 패킹과 언 패키징\n",
    "# 패킹 : 한 변수에 여러 개의 데이터를 넣는 것\n",
    "# 언패킹 : 한 변수의 데이터를 각각의 변수로 반환\n",
    "\n",
    "t = [1,2,3] # 1,2,3을 변수 t에 패킹\n",
    "a, b, c = t # t에 있는 값 1,2,3을 변수 a,b,c,에 언패킹\n",
    "print(t, a, b, c)"
   ]
  },
  {
   "cell_type": "code",
   "execution_count": 36,
   "metadata": {},
   "outputs": [
    {
     "name": "stdout",
     "output_type": "stream",
     "text": [
      "[[79, 79, 85, 60], [87, 57, 98, 75], [67, 57, 68, 90]]\n",
      "75\n"
     ]
    }
   ],
   "source": [
    "# 이차원 리스트\n",
    "kor_score = [79, 79, 85, 60]\n",
    "math_score = [87, 57, 98, 75]\n",
    "eng_score = [67, 57, 68, 90]\n",
    "midterm_score = [kor_score, math_score, eng_score]\n",
    "print(midterm_score)\n",
    "print(midterm_score[1][3])"
   ]
  },
  {
   "cell_type": "code",
   "execution_count": null,
   "metadata": {},
   "outputs": [],
   "source": []
  }
 ],
 "metadata": {
  "kernelspec": {
   "display_name": "Python 3",
   "language": "python",
   "name": "python3"
  },
  "language_info": {
   "codemirror_mode": {
    "name": "ipython",
    "version": 3
   },
   "file_extension": ".py",
   "mimetype": "text/x-python",
   "name": "python",
   "nbconvert_exporter": "python",
   "pygments_lexer": "ipython3",
   "version": "3.6.5"
  }
 },
 "nbformat": 4,
 "nbformat_minor": 2
}
