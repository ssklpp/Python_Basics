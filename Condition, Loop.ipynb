{
 "cells": [
  {
   "cell_type": "code",
   "execution_count": 1,
   "metadata": {},
   "outputs": [
    {
     "name": "stdout",
     "output_type": "stream",
     "text": [
      "Tell me your age?\n",
      "25\n",
      "Welcome to the Club\n"
     ]
    }
   ],
   "source": [
    "print(\"Tell me your age?\")\n",
    "myage = int(input()) # 나이를 입력받아 myage 변수에 할당\n",
    "\n",
    "if myage < 30: # myage가 30 미만일 때\n",
    "    print(\"Welcome to the Club\")\n",
    "else: # myage가 30 이상일 때\n",
    "    print(\"Oh! No. You are not accepted.\")"
   ]
  },
  {
   "cell_type": "code",
   "execution_count": 2,
   "metadata": {},
   "outputs": [
    {
     "name": "stdout",
     "output_type": "stream",
     "text": [
      "True\n"
     ]
    }
   ],
   "source": [
    "if 1:\n",
    "    print(\"True\")\n",
    "else:\n",
    "    print(\"False\")"
   ]
  },
  {
   "cell_type": "code",
   "execution_count": 3,
   "metadata": {},
   "outputs": [
    {
     "name": "stdout",
     "output_type": "stream",
     "text": [
      "True\n",
      "True\n"
     ]
    }
   ],
   "source": [
    "a = 3\n",
    "b = 3\n",
    "print(a == b)\n",
    "print(a is b)"
   ]
  },
  {
   "cell_type": "code",
   "execution_count": 4,
   "metadata": {},
   "outputs": [
    {
     "name": "stdout",
     "output_type": "stream",
     "text": [
      "A\n"
     ]
    }
   ],
   "source": [
    "# 조건문으로 학점 계산 \n",
    "\n",
    "score = 95\n",
    "\n",
    "if score >= 90:\n",
    "    grade = 'A'\n",
    "elif score >= 80:\n",
    "    grade = 'B'\n",
    "elif score >= 70:\n",
    "    grade = 'C'\n",
    "elif score >= 60:\n",
    "    grade = 'D'\n",
    "else:\n",
    "    grade = 'F'\n",
    "\n",
    "print(grade)"
   ]
  },
  {
   "cell_type": "code",
   "execution_count": 5,
   "metadata": {},
   "outputs": [
    {
     "name": "stdout",
     "output_type": "stream",
     "text": [
      "당신이 태어난 년도를 입력하세요\n",
      "1994\n",
      "대학생\n"
     ]
    }
   ],
   "source": [
    "print(\"당신이 태어난 년도를 입력하세요\")\n",
    "birth = int(input())\n",
    "age = 2018 - birth\n",
    "\n",
    "if age >= 20 and age <= 26:\n",
    "    print(\"대학생\")\n",
    "elif age >= 17 and age < 20:\n",
    "    print(\"고등학생\")\n",
    "elif age >= 14 and age < 17:\n",
    "    print(\"중학생\")\n",
    "elif age >= 8 and age < 14:\n",
    "    print(\"초등학생\")\n",
    "else:\n",
    "    print(\"당신은 학생이 아닙니다.\")"
   ]
  },
  {
   "cell_type": "code",
   "execution_count": 6,
   "metadata": {},
   "outputs": [
    {
     "name": "stdout",
     "output_type": "stream",
     "text": [
      "hello\n",
      "hello\n",
      "hello\n",
      "hello\n",
      "hello\n"
     ]
    }
   ],
   "source": [
    "for lopper in [1,2,3,4,5]:\n",
    "    print('hello')"
   ]
  },
  {
   "cell_type": "code",
   "execution_count": 7,
   "metadata": {},
   "outputs": [
    {
     "name": "stdout",
     "output_type": "stream",
     "text": [
      "Hello\n",
      "Hello\n",
      "Hello\n",
      "Hello\n",
      "Hello\n"
     ]
    }
   ],
   "source": [
    "for lopper in range(0,5):\n",
    "    print(\"Hello\")"
   ]
  },
  {
   "cell_type": "code",
   "execution_count": 8,
   "metadata": {},
   "outputs": [
    {
     "name": "stdout",
     "output_type": "stream",
     "text": [
      "1\n",
      "3\n",
      "5\n",
      "7\n",
      "9\n",
      "10\n",
      "9\n",
      "8\n",
      "7\n",
      "6\n",
      "5\n",
      "4\n",
      "3\n",
      "2\n"
     ]
    }
   ],
   "source": [
    "for i in range(1, 10, 2):\n",
    "    # 1부터 10까지 2씩 증가\n",
    "    print(i)\n",
    "    \n",
    "for i in range(10, 1, -1):\n",
    "    # 10부터 1까지 -1씩 증가\n",
    "    print(i)"
   ]
  },
  {
   "cell_type": "code",
   "execution_count": 9,
   "metadata": {},
   "outputs": [
    {
     "name": "stdout",
     "output_type": "stream",
     "text": [
      "1\n",
      "2\n",
      "3\n",
      "4\n",
      "5\n",
      "6\n",
      "7\n",
      "8\n",
      "9\n"
     ]
    }
   ],
   "source": [
    "i = 1\n",
    "while i < 10: # i가 10 미만일 때\n",
    "    print(i)\n",
    "    i = i+1"
   ]
  },
  {
   "cell_type": "code",
   "execution_count": 10,
   "metadata": {},
   "outputs": [
    {
     "name": "stdout",
     "output_type": "stream",
     "text": [
      "0\n",
      "1\n",
      "2\n",
      "3\n",
      "4\n",
      "EOP\n"
     ]
    }
   ],
   "source": [
    "for i in range(10):\n",
    "    if i == 5: # i가 5일 때 중지\n",
    "        break;\n",
    "    print(i)\n",
    "print(\"EOP\")"
   ]
  },
  {
   "cell_type": "code",
   "execution_count": 11,
   "metadata": {},
   "outputs": [
    {
     "name": "stdout",
     "output_type": "stream",
     "text": [
      "구구단 몇단을 계산할까요?\n",
      "8\n",
      "구구단 8 단을 계산합니다.\n",
      "8 X 1 = 8\n",
      "8 X 2 = 16\n",
      "8 X 3 = 24\n",
      "8 X 4 = 32\n",
      "8 X 5 = 40\n",
      "8 X 6 = 48\n",
      "8 X 7 = 56\n",
      "8 X 8 = 64\n",
      "8 X 9 = 72\n"
     ]
    }
   ],
   "source": [
    "print(\"구구단 몇단을 계산할까요?\")\n",
    "\n",
    "user_input = int(input())\n",
    "\n",
    "print(\"구구단\", user_input, \"단을 계산합니다.\")\n",
    "\n",
    "for i in range (1, 10):\n",
    "    result = user_input * i\n",
    "    print(user_input, \"X\", i, \"=\", result)"
   ]
  },
  {
   "cell_type": "code",
   "execution_count": 12,
   "metadata": {},
   "outputs": [
    {
     "name": "stdout",
     "output_type": "stream",
     "text": [
      "I ====  ====\n",
      "I\n",
      "  ==== I ====\n",
      " I\n",
      "l ====  I ====\n",
      "l I\n",
      "o ==== l I ====\n",
      "ol I\n",
      "v ==== ol I ====\n",
      "vol I\n",
      "e ==== vol I ====\n",
      "evol I\n",
      "  ==== evol I ====\n",
      " evol I\n",
      "y ====  evol I ====\n",
      "y evol I\n",
      "o ==== y evol I ====\n",
      "oy evol I\n",
      "u ==== oy evol I ====\n",
      "uoy evol I\n",
      "uoy evol I\n"
     ]
    }
   ],
   "source": [
    "sentence = 'I love you'\n",
    "reverse_sentence = ''\n",
    "\n",
    "for char in sentence:\n",
    "    print(char, \"====\", reverse_sentence, \"====\")\n",
    "    reverse_sentence = char + reverse_sentence\n",
    "    print(reverse_sentence)\n",
    "print(reverse_sentence)"
   ]
  },
  {
   "cell_type": "code",
   "execution_count": 13,
   "metadata": {},
   "outputs": [
    {
     "name": "stdout",
     "output_type": "stream",
     "text": [
      "1010\n"
     ]
    }
   ],
   "source": [
    "# 10진수를 2진수로 변환\n",
    "\n",
    "decimal = 10\n",
    "result = ''\n",
    "\n",
    "while (decimal > 0):\n",
    "    reminder = decimal % 2\n",
    "    decimal = decimal // 2\n",
    "    result = str(reminder) + result\n",
    "\n",
    "print(result)"
   ]
  },
  {
   "cell_type": "code",
   "execution_count": 14,
   "metadata": {},
   "outputs": [
    {
     "name": "stdout",
     "output_type": "stream",
     "text": [
      "숫자를 맞춰보세요 (1 ~ 100)\n",
      "50\n",
      "숫자가 너무 큽니다.\n",
      "25\n",
      "숫자가 너무 큽니다.\n",
      "37\n",
      "숫자가 너무 큽니다.\n",
      "12\n",
      "숫자가 너무 큽니다.\n",
      "4\n",
      "숫자가 너무 작습니다.\n",
      "8\n",
      "숫자가 너무 작습니다.\n",
      "10\n",
      "정답입니다. 입력한 숫자는 10 입니다.\n"
     ]
    }
   ],
   "source": [
    "# 숫자 찾기 게임\n",
    "# 1 ~ 100 임의의 숫자를 맞추시오\n",
    "\n",
    "import random\n",
    "guess_number = random.randint(1, 100)\n",
    "\n",
    "print(\"숫자를 맞춰보세요 (1 ~ 100)\")\n",
    "user_input = int(input())\n",
    "\n",
    "while user_input != guess_number:\n",
    "    if user_input > guess_number:\n",
    "        print(\"숫자가 너무 큽니다.\")\n",
    "    else:\n",
    "        print(\"숫자가 너무 작습니다.\")\n",
    "    user_input = int(input())\n",
    "else:\n",
    "    print(\"정답입니다. 입력한 숫자는\", user_input, \"입니다.\")"
   ]
  },
  {
   "cell_type": "code",
   "execution_count": 15,
   "metadata": {},
   "outputs": [
    {
     "name": "stdout",
     "output_type": "stream",
     "text": [
      "구구단 몇 단을 계산할까요? (1~9)\n",
      "8\n",
      "구구단 8 단을 계산합니다.\n",
      "8 X 1 = 8\n",
      "8 X 2 = 16\n",
      "8 X 3 = 24\n",
      "8 X 4 = 32\n",
      "8 X 5 = 40\n",
      "8 X 6 = 48\n",
      "8 X 7 = 56\n",
      "8 X 8 = 64\n",
      "8 X 9 = 72\n",
      "구구단 몇 단을 계산할까요? (1~9)\n",
      "7\n",
      "구구단 7 단을 계산합니다.\n",
      "7 X 1 = 7\n",
      "7 X 2 = 14\n",
      "7 X 3 = 21\n",
      "7 X 4 = 28\n",
      "7 X 5 = 35\n",
      "7 X 6 = 42\n",
      "7 X 7 = 49\n",
      "7 X 8 = 56\n",
      "7 X 9 = 63\n",
      "구구단 몇 단을 계산할까요? (1~9)\n",
      "4\n",
      "구구단 4 단을 계산합니다.\n",
      "4 X 1 = 4\n",
      "4 X 2 = 8\n",
      "4 X 3 = 12\n",
      "4 X 4 = 16\n",
      "4 X 5 = 20\n",
      "4 X 6 = 24\n",
      "4 X 7 = 28\n",
      "4 X 8 = 32\n",
      "4 X 9 = 36\n",
      "구구단 몇 단을 계산할까요? (1~9)\n",
      "0\n",
      "구구단 게임을 종료합니다.\n"
     ]
    }
   ],
   "source": [
    "print(\"구구단 몇 단을 계산할까요? (1~9)\")\n",
    "x = 1\n",
    "\n",
    "while x != 0:\n",
    "    x = int(input())\n",
    "    if x == 0:\n",
    "        break;\n",
    "    if not(1 <= x <= 9):\n",
    "        print(\"잘못 입력하셨습니다. 1~9 사이의 숫자를 입력해주세요.\")\n",
    "        continue\n",
    "    \n",
    "    else:\n",
    "        print(\"구구단\", x, \"단을 계산합니다.\")\n",
    "        for i in range(1, 10):\n",
    "            print(x, \"X\", i, \"=\", x*i)\n",
    "        print(\"구구단 몇 단을 계산할까요? (1~9)\")\n",
    "print(\"구구단 게임을 종료합니다.\")"
   ]
  },
  {
   "cell_type": "code",
   "execution_count": 16,
   "metadata": {},
   "outputs": [
    {
     "name": "stdout",
     "output_type": "stream",
     "text": [
      "20\n"
     ]
    }
   ],
   "source": [
    "kor_score = [49, 79, 20, 100, 80]\n",
    "math_score = [43, 59, 85, 30, 90]\n",
    "eng_score = [49, 79, 48, 60, 100]\n",
    "midterm_score = [kor_score, math_score, eng_score]\n",
    "print(midterm_score[0][2])"
   ]
  },
  {
   "cell_type": "code",
   "execution_count": 17,
   "metadata": {},
   "outputs": [
    {
     "name": "stdout",
     "output_type": "stream",
     "text": [
      "[47.0, 72.33333333333333, 51.0, 63.333333333333336, 90.0]\n"
     ]
    }
   ],
   "source": [
    "# 과목별 평균 구하기\n",
    "\n",
    "student_score = [0,0,0,0,0]\n",
    "i = 0\n",
    "\n",
    "for subject in midterm_score:\n",
    "    for score in subject:\n",
    "        student_score[i] += score\n",
    "        i += 1\n",
    "    i = 0\n",
    "else:\n",
    "    a, b, c, d, e = student_score # 언패키징\n",
    "    student_average = [a/3, b/3, c/3, d/3, e/3]\n",
    "    print(student_average)"
   ]
  },
  {
   "cell_type": "code",
   "execution_count": null,
   "metadata": {},
   "outputs": [],
   "source": []
  }
 ],
 "metadata": {
  "kernelspec": {
   "display_name": "Python 3",
   "language": "python",
   "name": "python3"
  },
  "language_info": {
   "codemirror_mode": {
    "name": "ipython",
    "version": 3
   },
   "file_extension": ".py",
   "mimetype": "text/x-python",
   "name": "python",
   "nbconvert_exporter": "python",
   "pygments_lexer": "ipython3",
   "version": "3.6.5"
  }
 },
 "nbformat": 4,
 "nbformat_minor": 2
}
