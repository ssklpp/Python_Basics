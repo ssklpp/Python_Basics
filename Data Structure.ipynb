{
 "cells": [
  {
   "cell_type": "code",
   "execution_count": 2,
   "metadata": {},
   "outputs": [
    {
     "name": "stdout",
     "output_type": "stream",
     "text": [
      "20\n",
      "10\n"
     ]
    }
   ],
   "source": [
    "# Stack\n",
    "# Last In First Out (LIFO)\n",
    "# 입력 Push, 출력 Pop\n",
    "\n",
    "a = [1,2,3,4,5]\n",
    "a.append(10)   # a = [1,2,3,4,5,10]\n",
    "a.append(20)   # a = [1,2,3,4,5,10,20]\n",
    "print(a.pop()) # a = [1,2,3,4,5,10]\n",
    "print(a.pop()) # a = [1,2,3,4,5]"
   ]
  },
  {
   "cell_type": "code",
   "execution_count": 3,
   "metadata": {},
   "outputs": [
    {
     "name": "stdout",
     "output_type": "stream",
     "text": [
      "Input a word : Kimtaewan\n",
      "n\n",
      "a\n",
      "w\n",
      "e\n",
      "a\n",
      "t\n",
      "m\n",
      "i\n",
      "K\n"
     ]
    }
   ],
   "source": [
    "word = input(\"Input a word : \")\n",
    "word_list = list(word)\n",
    "\n",
    "for i in range(len(word_list)):\n",
    "    print(word_list.pop())"
   ]
  },
  {
   "cell_type": "code",
   "execution_count": 5,
   "metadata": {},
   "outputs": [
    {
     "name": "stdout",
     "output_type": "stream",
     "text": [
      "1\n",
      "2\n"
     ]
    }
   ],
   "source": [
    "# Queue\n",
    "# First In First Out (FIFO)\n",
    "# Stack과 반대되는 개념\n",
    "# 입력 Put, 출력 Get\n",
    "\n",
    "a = [1,2,3,4,5]\n",
    "a.append(10)    # a = [1,2,3,4,5,10]\n",
    "a.append(20)    # a = [1,2,3,4,5,10,20]\n",
    "print(a.pop(0)) # a = [2,3,4,5,10,20]\n",
    "print(a.pop(0)) # a = [3,4,5,10,20]"
   ]
  },
  {
   "cell_type": "code",
   "execution_count": 6,
   "metadata": {},
   "outputs": [
    {
     "name": "stdout",
     "output_type": "stream",
     "text": [
      "(1, 2, 3, 1, 2, 3) (1, 2, 3, 1, 2, 3)\n"
     ]
    },
    {
     "ename": "TypeError",
     "evalue": "'tuple' object does not support item assignment",
     "output_type": "error",
     "traceback": [
      "\u001b[1;31m---------------------------------------------------------------------------\u001b[0m",
      "\u001b[1;31mTypeError\u001b[0m                                 Traceback (most recent call last)",
      "\u001b[1;32m<ipython-input-6-699b560ac357>\u001b[0m in \u001b[0;36m<module>\u001b[1;34m()\u001b[0m\n\u001b[0;32m      6\u001b[0m \u001b[0mprint\u001b[0m\u001b[1;33m(\u001b[0m\u001b[0mt\u001b[0m\u001b[1;33m+\u001b[0m\u001b[0mt\u001b[0m\u001b[1;33m,\u001b[0m \u001b[0mt\u001b[0m\u001b[1;33m*\u001b[0m\u001b[1;36m2\u001b[0m\u001b[1;33m)\u001b[0m\u001b[1;33m\u001b[0m\u001b[0m\n\u001b[0;32m      7\u001b[0m \u001b[0mlen\u001b[0m\u001b[1;33m(\u001b[0m\u001b[0mt\u001b[0m\u001b[1;33m)\u001b[0m\u001b[1;33m\u001b[0m\u001b[0m\n\u001b[1;32m----> 8\u001b[1;33m \u001b[0mt\u001b[0m\u001b[1;33m[\u001b[0m\u001b[1;36m1\u001b[0m\u001b[1;33m]\u001b[0m \u001b[1;33m=\u001b[0m \u001b[1;36m5\u001b[0m\u001b[1;33m\u001b[0m\u001b[0m\n\u001b[0m",
      "\u001b[1;31mTypeError\u001b[0m: 'tuple' object does not support item assignment"
     ]
    }
   ],
   "source": [
    "# Tuple\n",
    "# 값의 변경이 불간으한 리스트\n",
    "# 선언시 \"[]\"가 아닌 \"()\" 사용\n",
    "\n",
    "t = (1,2,3)\n",
    "print(t+t, t*2)\n",
    "len(t)\n",
    "t[1] = 5 # Error 발생"
   ]
  },
  {
   "cell_type": "code",
   "execution_count": 10,
   "metadata": {},
   "outputs": [
    {
     "name": "stdout",
     "output_type": "stream",
     "text": [
      "<class 'int'>\n",
      "<class 'tuple'>\n"
     ]
    }
   ],
   "source": [
    "t = (1)   # 일반정수로 인식\n",
    "print(type(t))\n",
    "t = (1, ) # 값이 하나인 tuple\n",
    "print(type(t))"
   ]
  },
  {
   "cell_type": "code",
   "execution_count": 15,
   "metadata": {},
   "outputs": [
    {
     "name": "stdout",
     "output_type": "stream",
     "text": [
      "{1, 2, 3}\n",
      "{10, 1, 2, 3}\n",
      "{1, 2, 3, 33, 5, 7, 8, 10}\n",
      "{1, 2, 33, 5, 7, 8, 10}\n",
      "1\n",
      "2\n",
      "33\n",
      "5\n",
      "7\n",
      "8\n",
      "10\n"
     ]
    }
   ],
   "source": [
    "# Set\n",
    "# 값을 순서없이 저장, 중복 불허하는 자료형\n",
    "\n",
    "s = set([1,2,3,1,2,3])\n",
    "print(s)\n",
    "s.add(10)\n",
    "print(s)\n",
    "s.update([1,5,7,8,33,1])\n",
    "print(s)\n",
    "s.discard(3)\n",
    "print(s)\n",
    "\n",
    "for value in s:\n",
    "    print(value)"
   ]
  },
  {
   "cell_type": "code",
   "execution_count": 18,
   "metadata": {},
   "outputs": [
    {
     "name": "stdout",
     "output_type": "stream",
     "text": [
      "{1, 2, 3, 4, 5, 6, 7}\n",
      "{1, 2, 3, 4, 5, 6, 7}\n",
      "{3, 4, 5}\n",
      "{3, 4, 5}\n",
      "{1, 2}\n",
      "{1, 2}\n"
     ]
    }
   ],
   "source": [
    "s1 = set([1,2,3,4,5])\n",
    "s2 = set([3,4,5,6,7])\n",
    "print(s1.union(s2))\n",
    "print(s1 | s2)\n",
    "print(s1.intersection(s2))\n",
    "print(s1 & s2)\n",
    "print(s1.difference(s2))\n",
    "print(s1-s2)"
   ]
  },
  {
   "cell_type": "code",
   "execution_count": 22,
   "metadata": {},
   "outputs": [
    {
     "name": "stdout",
     "output_type": "stream",
     "text": [
      "Taewan\n",
      "Janhyeok\n"
     ]
    }
   ],
   "source": [
    "# Dictionary\n",
    "# 데이터를 저장할 때는 구분 지을 수 있는 값을 함께 저장\n",
    "# 구분을 위한 데이터 고유값을 Identifier  또는 Key라고 함\n",
    "\n",
    "student_info = {20134543:'Taewan', 20140059:'Jiyong', 20140058:'JaeHong'}\n",
    "\n",
    "print(student_info[20134543])\n",
    "student_info[20140059] = 'Janhyeok'\n",
    "print(student_info[20140059])\n",
    "student_info[20140039] = 'wonchul'"
   ]
  },
  {
   "cell_type": "code",
   "execution_count": 27,
   "metadata": {},
   "outputs": [
    {
     "name": "stdout",
     "output_type": "stream",
     "text": [
      "{'America': 1, 'Korea': 82, 'China': 86, 'Japan': 81}\n",
      "dict_items([('America', 1), ('Korea', 82), ('China', 86), ('Japan', 81)])\n",
      "dict_keys(['America', 'Korea', 'China', 'Japan'])\n",
      "{'America': 1, 'Korea': 82, 'China': 86, 'Japan': 81, 'German': 49}\n",
      "dict_values([1, 82, 86, 81, 49])\n",
      "Key :  America\n",
      "Value :  1\n",
      "Key :  Korea\n",
      "Value :  82\n",
      "Key :  China\n",
      "Value :  86\n",
      "Key :  Japan\n",
      "Value :  81\n",
      "Key :  German\n",
      "Value :  49\n",
      "True\n",
      "True\n"
     ]
    }
   ],
   "source": [
    "country_code = {}\n",
    "country_code = {\"America\":1, \"Korea\":82, \"China\":86, \"Japan\":81}\n",
    "print(country_code)\n",
    "print(country_code.items())\n",
    "print(country_code.keys())\n",
    "country_code[\"German\"] = 49\n",
    "print(country_code)\n",
    "print(country_code.values())\n",
    "\n",
    "for k,v in country_code.items():\n",
    "    print(\"Key : \", k)\n",
    "    print(\"Value : \", v)\n",
    "print(\"Korea\" in country_code.keys())\n",
    "print(82 in country_code.values())"
   ]
  },
  {
   "cell_type": "code",
   "execution_count": null,
   "metadata": {},
   "outputs": [],
   "source": []
  }
 ],
 "metadata": {
  "kernelspec": {
   "display_name": "Python 3",
   "language": "python",
   "name": "python3"
  },
  "language_info": {
   "codemirror_mode": {
    "name": "ipython",
    "version": 3
   },
   "file_extension": ".py",
   "mimetype": "text/x-python",
   "name": "python",
   "nbconvert_exporter": "python",
   "pygments_lexer": "ipython3",
   "version": "3.6.5"
  }
 },
 "nbformat": 4,
 "nbformat_minor": 2
}
