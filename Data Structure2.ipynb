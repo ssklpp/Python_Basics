{
 "cells": [
  {
   "cell_type": "code",
   "execution_count": 9,
   "metadata": {},
   "outputs": [
    {
     "name": "stdout",
     "output_type": "stream",
     "text": [
      "deque([0, 1, 2, 3, 4])\n",
      "deque([10, 0, 1, 2, 3, 4])\n",
      "deque([3, 4, 10, 0, 1, 2])\n",
      "deque([1, 2, 3, 4, 10, 0])\n",
      "deque([1, 2, 3, 4, 10, 0])\n",
      "deque([0, 10, 4, 3, 2, 1])\n",
      "deque([1, 2, 3, 4, 10, 0, 5, 6, 7])\n",
      "deque([7, 6, 5, 1, 2, 3, 4, 10, 0, 5, 6, 7])\n"
     ]
    }
   ],
   "source": [
    "# Collections\n",
    "# List, Tuple, Dict에 대한 Python Built-in 확장 자료구조\n",
    "\n",
    "# deque\n",
    "# Stack과 Queue를 지원하는 모듈\n",
    "# List에 비해 효율적으로 자료 저장방식을 지원\n",
    "\n",
    "from collections import deque\n",
    "\n",
    "deque_list = deque()\n",
    "for i in range(5):\n",
    "    deque_list.append(i)\n",
    "print(deque_list)\n",
    "\n",
    "deque_list.appendleft(10)\n",
    "print(deque_list)\n",
    "\n",
    "deque_list.rotate(2)\n",
    "print(deque_list)\n",
    "deque_list.rotate(2)\n",
    "print(deque_list)\n",
    "\n",
    "print(deque_list)\n",
    "print(deque(reversed(deque_list)))\n",
    "\n",
    "deque_list.extend([5,6,7])\n",
    "print(deque_list)\n",
    "\n",
    "deque_list.extendleft([5,6,7])\n",
    "print(deque_list)"
   ]
  },
  {
   "cell_type": "code",
   "execution_count": 10,
   "metadata": {},
   "outputs": [
    {
     "name": "stdout",
     "output_type": "stream",
     "text": [
      "14.86427548954562 seconds\n"
     ]
    }
   ],
   "source": [
    "from collections import deque\n",
    "import time\n",
    "\n",
    "start_time = time.clock()\n",
    "deque_list = deque()\n",
    "# Stack\n",
    "for i in range(10000):\n",
    "    for i in range(10000):\n",
    "        deque_list.append(i)\n",
    "        deque_list.pop()\n",
    "print(time.clock() - start_time, \"seconds\")"
   ]
  },
  {
   "cell_type": "code",
   "execution_count": 11,
   "metadata": {},
   "outputs": [
    {
     "name": "stdout",
     "output_type": "stream",
     "text": [
      "37.792956175026816 seconds\n"
     ]
    }
   ],
   "source": [
    "import time\n",
    "\n",
    "start_time = time.clock()\n",
    "just_list = []\n",
    "for i in range(10000):\n",
    "    for i in range(10000):\n",
    "        just_list.append(i)\n",
    "        just_list.pop()\n",
    "print(time.clock() - start_time, \"seconds\")"
   ]
  },
  {
   "cell_type": "code",
   "execution_count": 14,
   "metadata": {},
   "outputs": [
    {
     "name": "stdout",
     "output_type": "stream",
     "text": [
      "x 100\n",
      "y 200\n",
      "z 300\n",
      "l 500\n",
      "x 100\n",
      "y 200\n",
      "z 300\n",
      "l 500\n"
     ]
    }
   ],
   "source": [
    "# OrderedDict\n",
    "# Dict와 달리, 데이터를 입력한 순서대로 dict를 반환함\n",
    "\n",
    "d = {}\n",
    "d['x'] = 100\n",
    "d['y'] = 200\n",
    "d['z'] = 300\n",
    "d['l'] = 500\n",
    "\n",
    "for k, v in d.items():\n",
    "    print(k, v)\n",
    "    \n",
    "from collections import OrderedDict\n",
    "\n",
    "d = {}\n",
    "d['x'] = 100\n",
    "d['y'] = 200\n",
    "d['z'] = 300\n",
    "d['l'] = 500\n",
    "\n",
    "for k, v in d.items():\n",
    "    print(k, v)"
   ]
  },
  {
   "cell_type": "code",
   "execution_count": 21,
   "metadata": {},
   "outputs": [
    {
     "name": "stdout",
     "output_type": "stream",
     "text": [
      "0\n"
     ]
    }
   ],
   "source": [
    "# defaultdict\n",
    "# Dict type의 값에 기본 값을 지정, 신규값 생성시 사용하는 방법\n",
    "\n",
    "from collections import defaultdict\n",
    "\n",
    "d = defaultdict(object)\n",
    "d = defaultdict(lambda: 0)\n",
    "print(d[\"first\"])"
   ]
  },
  {
   "cell_type": "code",
   "execution_count": 7,
   "metadata": {},
   "outputs": [
    {
     "name": "stdout",
     "output_type": "stream",
     "text": [
      "{'A': 5, ' ': 259, 'p': 44, 'r': 94, 'e': 172, 's': 108, 'l': 65, 'a': 117, 'i': 75, 't': 126, 'h': 36, 'q': 1, 'u': 34, 'c': 36, 'k': 10, 'n': 70, 'd': 36, 'w': 15, 'y': 31, 'o': 86, 'g': 15, 'f': 21, 'b': 20, '.': 16, 'I': 4, ',': 15, '\\n': 35, 'm': 35, 'T': 2, '-': 5, '!': 0, 'W': 3, \"'\": 5, 'v': 10, '(': 1, ')': 1, 'H': 0, 'M': 1, 'j': 0, 'N': 0, 'F': 0, 'x': 3, ':': 1, '\"': 5, 'R': 0, '6': 1, '0': 1, 'z': 2, '?': 0, 'S': 1, 'B': 2}\n",
      "  260\n",
      "e 173\n",
      "t 127\n",
      "a 118\n",
      "s 109\n",
      "r 95\n",
      "o 87\n",
      "i 76\n",
      "n 71\n",
      "l 66\n",
      "p 45\n",
      "h 37\n",
      "c 37\n",
      "d 37\n",
      "\n",
      " 36\n",
      "m 36\n",
      "u 35\n",
      "y 32\n",
      "f 22\n",
      "b 21\n",
      ". 17\n",
      "w 16\n",
      "g 16\n",
      ", 16\n",
      "k 11\n",
      "v 11\n",
      "A 6\n",
      "- 6\n",
      "' 6\n",
      "\" 6\n",
      "I 5\n",
      "W 4\n",
      "x 4\n",
      "T 3\n",
      "z 3\n",
      "B 3\n",
      "q 2\n",
      "( 2\n",
      ") 2\n",
      "M 2\n",
      ": 2\n",
      "6 2\n",
      "0 2\n",
      "S 2\n",
      "! 1\n",
      "H 1\n",
      "j 1\n",
      "N 1\n",
      "F 1\n",
      "R 1\n",
      "? 1\n"
     ]
    }
   ],
   "source": [
    "from collections import OrderedDict\n",
    "from collections import defaultdict\n",
    "\n",
    "text = \"\"\"A press release is the quickest and easiest way to get free publicity. If well written, a press release can \n",
    "result in multiple published articles about your firm and its products. And that can mean new prospects \n",
    "contacting you asking you to sell to them. T\n",
    "alk about low\n",
    "-\n",
    "hanging fruit!\n",
    "What's more, press releases are cost effective. If the release results in an article that (for instance) appears \n",
    "to recommend your firm or your product that article is more likely to drive prospects to contact you than a \n",
    "compa\n",
    "rable paid advertisement.\n",
    "However, most press releases never accomplish that. Most press releases are just spray and pray. Nobody \n",
    "reads them, least of all the reporters and editors for whom they're intended. Worst case, a badly\n",
    "-\n",
    "written \n",
    "press release simpl\n",
    "y makes your firm look clueless and stupid.\n",
    "For example, a while back, I received a press release containing the following sentence: \"Release 6.0 \n",
    "doubles the level of functionality available, providing organizations of all sizes with a fast\n",
    "-\n",
    "to\n",
    "-\n",
    "deploy, \n",
    "hig\n",
    "hly robust, and easy\n",
    "-\n",
    "to\n",
    "-\n",
    "use solution to better acquire, retain, and serve customers.\"\n",
    "Translation: \"The new release does more stuff.\" Why the extra verbiage? As I explained in the post \"\n",
    "Why \n",
    "Marketers Speak Biz Blab\n",
    "\", the BS words are simply a way to try to make something unimportant seem \n",
    "important. And, let's face it, a 6.0 release of a product probably isn't all that important.\n",
    "As a reporter, my immedia\n",
    "te response to that press release was that it's not important because it expended \n",
    "an entire sentence saying absolutely nothing. And I assumed (probably rightly) that the company's \n",
    "marketing team was a bunch of idiots.\"\"\"\n",
    "\n",
    "word_count = {}\n",
    "for word in text:\n",
    "    if word in word_count.keys():\n",
    "        word_count[word] += 1\n",
    "    else:\n",
    "        word_count[word] = 0\n",
    "print(word_count)\n",
    "\n",
    "word_count = defaultdict(object)\n",
    "word_count = defaultdict(lambda: 0)\n",
    "\n",
    "for word in text:\n",
    "    word_count[word] += 1\n",
    "for i, v in OrderedDict(sorted(word_count.items(), key=lambda t: t[1], reverse=True)).items():\n",
    "    print(i, v)"
   ]
  },
  {
   "cell_type": "code",
   "execution_count": 8,
   "metadata": {},
   "outputs": [
    {
     "name": "stdout",
     "output_type": "stream",
     "text": [
      "Counter({'a': 3, 'l': 2, 'g': 1, 'h': 1, 'd': 1})\n"
     ]
    }
   ],
   "source": [
    "# Counter\n",
    "# Sequence type의 data element들의 갯수를 dict 형태로 반환\n",
    "\n",
    "from collections import Counter\n",
    "\n",
    "c = Counter()\n",
    "c = Counter('gallahad')\n",
    "print(c)"
   ]
  },
  {
   "cell_type": "code",
   "execution_count": 9,
   "metadata": {},
   "outputs": [
    {
     "name": "stdout",
     "output_type": "stream",
     "text": [
      "Counter({'red': 4, 'blue': 2})\n",
      "['red', 'red', 'red', 'red', 'blue', 'blue']\n"
     ]
    }
   ],
   "source": [
    "c = Counter({'red':4, 'blue':2})\n",
    "print(c)\n",
    "print(list(c.elements()))"
   ]
  },
  {
   "cell_type": "code",
   "execution_count": 10,
   "metadata": {},
   "outputs": [
    {
     "name": "stdout",
     "output_type": "stream",
     "text": [
      "Counter({'a': 3, 'b': 0, 'd': -2, 'c': -3})\n"
     ]
    }
   ],
   "source": [
    "c = Counter(a=4, b=2, c=0, d=2)\n",
    "d = Counter(a=1, b=2, c=3, d=4)\n",
    "c.subtract(d)\n",
    "print(c)"
   ]
  },
  {
   "cell_type": "code",
   "execution_count": 12,
   "metadata": {},
   "outputs": [
    {
     "name": "stdout",
     "output_type": "stream",
     "text": [
      "Counter({'and': 3, 'to': 3, 'a': 2, 'press': 2, 'release': 2, 'can': 2, 'you': 2, 'is': 1, 'the': 1, 'quickest': 1, 'easiest': 1, 'way': 1, 'get': 1, 'free': 1, 'publicity.': 1, 'if': 1, 'well': 1, 'written,': 1, 'result': 1, 'in': 1, 'multiple': 1, 'published': 1, 'articles': 1, 'about': 1, 'your': 1, 'firm': 1, 'its': 1, 'products.': 1, 'that': 1, 'mean': 1, 'new': 1, 'prospects': 1, 'contacting': 1, 'asking': 1, 'sell': 1, 'them': 1})\n",
      "2\n"
     ]
    }
   ],
   "source": [
    "text = \"\"\"A press release is the quickest and easiest way to get free publicity. If well written, a press release can \n",
    "result in multiple published articles about your firm and its products. And that can mean new prospects \n",
    "contacting you asking you to sell to them\"\"\".lower().split()\n",
    "\n",
    "print(Counter(text))\n",
    "print(Counter(text)[\"a\"])"
   ]
  },
  {
   "cell_type": "code",
   "execution_count": 14,
   "metadata": {},
   "outputs": [
    {
     "name": "stdout",
     "output_type": "stream",
     "text": [
      "33\n"
     ]
    }
   ],
   "source": [
    "# namedtuple\n",
    "# Tuple 형태로 Data 구조체를 저장하는 방법\n",
    "# 저장되는 data의 variable을 사전에 지정해서 저장함\n",
    "\n",
    "from collections import namedtuple\n",
    "Point = namedtuple('Point', ['x', 'y'])\n",
    "p = Point(11, y=22)\n",
    "print(p[0] + p[1])"
   ]
  },
  {
   "cell_type": "code",
   "execution_count": null,
   "metadata": {},
   "outputs": [],
   "source": []
  }
 ],
 "metadata": {
  "kernelspec": {
   "display_name": "Python 3",
   "language": "python",
   "name": "python3"
  },
  "language_info": {
   "codemirror_mode": {
    "name": "ipython",
    "version": 3
   },
   "file_extension": ".py",
   "mimetype": "text/x-python",
   "name": "python",
   "nbconvert_exporter": "python",
   "pygments_lexer": "ipython3",
   "version": "3.6.5"
  }
 },
 "nbformat": 4,
 "nbformat_minor": 2
}
