{
 "cells": [
  {
   "cell_type": "code",
   "execution_count": 44,
   "metadata": {},
   "outputs": [
    {
     "name": "stdout",
     "output_type": "stream",
     "text": [
      "사각형의 x의 길이:  10\n",
      "사각형의 y의 길이:  20\n",
      "사각형의 넓이:  200\n"
     ]
    }
   ],
   "source": [
    "# 사각형의 넓이를 구하는 함수\n",
    "def calculate_rectangle_area(x, y):\n",
    "    return x*y\n",
    "\n",
    "rectangle_x = 10\n",
    "rectangle_y = 20\n",
    "print(\"사각형의 x의 길이: \", rectangle_x)\n",
    "print(\"사각형의 y의 길이: \", rectangle_y)\n",
    "\n",
    "# 넓이를 구하는 함수 호출\n",
    "print(\"사각형의 넓이: \", calculate_rectangle_area(rectangle_x, rectangle_y))"
   ]
  },
  {
   "cell_type": "code",
   "execution_count": 45,
   "metadata": {},
   "outputs": [
    {
     "name": "stdout",
     "output_type": "stream",
     "text": [
      "151\n"
     ]
    }
   ],
   "source": [
    "def f(x):\n",
    "    return 2*x + 7\n",
    "def g(x):\n",
    "    return x ** 2\n",
    "\n",
    "x = 2\n",
    "print(f(x)+g(x)+f(g(x))+g(f(x)))"
   ]
  },
  {
   "cell_type": "code",
   "execution_count": 46,
   "metadata": {},
   "outputs": [
    {
     "name": "stdout",
     "output_type": "stream",
     "text": [
      "32\n",
      "None\n",
      "함수 안에 있습니다.\n",
      "35\n"
     ]
    }
   ],
   "source": [
    "def a_reactangle_area():\n",
    "    print(5*7)\n",
    "def b_reactangle_area(x,y):\n",
    "    print(x*y)\n",
    "print(b_reactangle_area(4,8))\n",
    "def c_reactangle_area():\n",
    "    return 5*7\n",
    "def d_reactangle_area(x,y):\n",
    "    print(\"함수 안에 있습니다.\")\n",
    "    return x*y\n",
    "print(d_reactangle_area(5,7))"
   ]
  },
  {
   "cell_type": "code",
   "execution_count": 47,
   "metadata": {},
   "outputs": [
    {
     "name": "stdout",
     "output_type": "stream",
     "text": [
      "[0, 1]\n"
     ]
    }
   ],
   "source": [
    "def spam(eggs):\n",
    "    eggs.append(1) # 기존 객체의 주소값에 [1] 추가\n",
    "    eggs = [2, 3] # 새로운 객체 생성\n",
    "\n",
    "ham = [0]\n",
    "spam(ham)\n",
    "print(ham)"
   ]
  },
  {
   "cell_type": "code",
   "execution_count": 48,
   "metadata": {},
   "outputs": [
    {
     "name": "stdout",
     "output_type": "stream",
     "text": [
      "Before : 10\n",
      "10\n",
      "In Function : 20\n",
      "After : 10\n"
     ]
    }
   ],
   "source": [
    "def test(t):\n",
    "    print(t)\n",
    "    t = 20\n",
    "    print(\"In Function :\", t)\n",
    "    \n",
    "x = 10\n",
    "print(\"Before :\", x)\n",
    "test(x)\n",
    "print(\"After :\", x)"
   ]
  },
  {
   "cell_type": "code",
   "execution_count": 49,
   "metadata": {},
   "outputs": [
    {
     "name": "stdout",
     "output_type": "stream",
     "text": [
      "I love London!\n",
      "I love London!\n"
     ]
    }
   ],
   "source": [
    "def f():\n",
    "    global s\n",
    "    s = 'I love London!'\n",
    "    print(s)\n",
    "\n",
    "s = 'I love Paris!'\n",
    "f()\n",
    "print(s)"
   ]
  },
  {
   "cell_type": "code",
   "execution_count": 50,
   "metadata": {},
   "outputs": [
    {
     "name": "stdout",
     "output_type": "stream",
     "text": [
      "In Program - 1\n",
      "a: 5 b: 7 a+b: 12\n",
      "In Funtion\n",
      "a: 5 b: 7 a+b: 12 total : 12\n",
      "After Calculation\n",
      "Total : 0  Sum: 12\n"
     ]
    }
   ],
   "source": [
    "def calculate(x, y):\n",
    "    total = x + y # 새로운 값이 할당되어 함수 내 total은 지역변수가 됨\n",
    "    print(\"In Funtion\")\n",
    "    print(\"a:\", str(a), \"b:\", str(b), \"a+b:\", str(a+b), \"total :\", str(total))\n",
    "    return total\n",
    "\n",
    "a = 5 # a와 b는 전역변수\n",
    "b = 7\n",
    "total = 0\n",
    "\n",
    "print(\"In Program - 1\")\n",
    "print(\"a:\", str(a), \"b:\", str(b), \"a+b:\", str(a+b))\n",
    "\n",
    "sum = calculate(a,b)\n",
    "print(\"After Calculation\")\n",
    "print(\"Total :\", str(total), \" Sum:\", str(sum)) # 지역변수는 전역변수에 영향 x"
   ]
  },
  {
   "cell_type": "code",
   "execution_count": 51,
   "metadata": {},
   "outputs": [
    {
     "name": "stdout",
     "output_type": "stream",
     "text": [
      "Input Number for Factorial Calculation: 5\n",
      "120\n"
     ]
    }
   ],
   "source": [
    "# 재귀 함수\n",
    "def factorial(n):\n",
    "    if n == 1:\n",
    "        return 1\n",
    "    else:\n",
    "        return n * factorial(n-1)\n",
    "\n",
    "print(factorial(int(input(\"Input Number for Factorial Calculation: \"))))"
   ]
  },
  {
   "cell_type": "code",
   "execution_count": 52,
   "metadata": {},
   "outputs": [
    {
     "name": "stdout",
     "output_type": "stream",
     "text": [
      "Hello TEAMLAB, My name is Taewan\n",
      "Hello TEAMLAB, My name is Taewan\n"
     ]
    }
   ],
   "source": [
    "# Keyword arguments\n",
    "def print_something(my_name, your_name):\n",
    "    print(\"Hello {0}, My name is {1}\".format(your_name, my_name))\n",
    "    \n",
    "print_something(\"Taewan\", \"TEAMLAB\")\n",
    "print_something(your_name=\"TEAMLAB\", my_name=\"Taewan\")"
   ]
  },
  {
   "cell_type": "code",
   "execution_count": 53,
   "metadata": {},
   "outputs": [
    {
     "name": "stdout",
     "output_type": "stream",
     "text": [
      "Hello TEAMLAB, My name is Taewan\n",
      "Hello TEAMLAB, My name is Taewan\n"
     ]
    }
   ],
   "source": [
    "# Default arguments\n",
    "def print_something_2(my_name, your_name=\"TEAMLAB\"):\n",
    "    print(\"Hello {0}, My name is {1}\".format(your_name, my_name))\n",
    "    \n",
    "print_something_2(\"Taewan\", \"TEAMLAB\")\n",
    "print_something_2(\"Taewan\")"
   ]
  },
  {
   "cell_type": "code",
   "execution_count": null,
   "metadata": {},
   "outputs": [],
   "source": []
  }
 ],
 "metadata": {
  "kernelspec": {
   "display_name": "Python 3",
   "language": "python",
   "name": "python3"
  },
  "language_info": {
   "codemirror_mode": {
    "name": "ipython",
    "version": 3
   },
   "file_extension": ".py",
   "mimetype": "text/x-python",
   "name": "python",
   "nbconvert_exporter": "python",
   "pygments_lexer": "ipython3",
   "version": "3.6.5"
  }
 },
 "nbformat": 4,
 "nbformat_minor": 2
}
